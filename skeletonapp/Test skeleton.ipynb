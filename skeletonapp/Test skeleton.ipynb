{
 "cells": [
  {
   "cell_type": "code",
   "execution_count": 1,
   "metadata": {
    "collapsed": true
   },
   "outputs": [],
   "source": [
    "%load_ext autoreload\n",
    "%autoreload 2"
   ]
  },
  {
   "cell_type": "code",
   "execution_count": 2,
   "metadata": {
    "collapsed": false
   },
   "outputs": [],
   "source": [
    "#Load the word2vec and other required data here so that we don't have to run them again\n",
    "import re\n",
    "import xml.etree.ElementTree as ET\n",
    "import argparse\n",
    "import gensim\n",
    "from diesel import ontology\n",
    "\n",
    "gold_dataset = \"data/input/predmap.txt\"\n",
    "trips_path = \"../../flaming-tyrion/lexicon/data/\"\n",
    "word2vec_path = \"data/input/googlenews.bin\"\n",
    "\n",
    "TRIPS_ONTOLOGY = ontology.load_ontology(trips_path)\n",
    "word2vec_model = gensim.models.Word2Vec.load_word2vec_format(\n",
    "    word2vec_path, binary=True)\n"
   ]
  },
  {
   "cell_type": "code",
   "execution_count": 3,
   "metadata": {
    "collapsed": false
   },
   "outputs": [
    {
     "data": {
      "text/plain": [
       "<module 'skeleton' from 'skeleton/__init__.pyc'>"
      ]
     },
     "execution_count": 3,
     "metadata": {},
     "output_type": "execute_result"
    }
   ],
   "source": [
    "import skeleton\n",
    "reload(skeleton)"
   ]
  },
  {
   "cell_type": "code",
   "execution_count": 4,
   "metadata": {
    "collapsed": false
   },
   "outputs": [
    {
     "name": "stdout",
     "output_type": "stream",
     "text": [
      "('Parse failed for ', '\"Many males occasionally sit.\"')\n",
      "\n",
      "('Parse failed for ', '\"Many-or-some Canadian provinces are cities.\"')\n",
      "\n",
      "('Parse failed for ', '\"Many-or-some cities are Canadian provinces.\"')\n",
      "\n",
      "('Parse failed for ', '\"Many people have schools.\"')\n",
      "\n",
      "('Parse failed for ', '\"Many-or-some efforts are international.\"')\n",
      "\n",
      "('Parse failed for ', '\"Many people have a whole life.\"')\n",
      "\n",
      "('Parse failed for ', '\"Many researchers occasionally find a proposition.\"')\n",
      "\n",
      "('Parse failed for ', '\"An attorney may pertain to the US.\"')\n",
      "\n",
      "('Parse failed for ', '\"Many-or-some male persons are born.\"')\n",
      "\n",
      "('Parse failed for ', '\"A war can be on terrorism.\"')\n",
      "\n",
      "('Parse failed for ', '\"Many-or-some people have an ancestor.\"')\n",
      "\n",
      "('Parse failed for ', '\"Many-or-some dates are effective.\"')\n",
      "\n",
      "('Parse failed for ', '\"Many-or-some females have a person as partner.\"')\n",
      "\n",
      "('Parse failed for ', '\"Many lifetimes pertain to a person.\"')\n",
      "\n",
      "('Parse failed for ', '\"A crew may pertain to a male.\"')\n",
      "\n",
      "('Parse failed for ', '\"Many-or-some highs are all-time.\"')\n",
      "\n",
      "('Parse failed for ', '\"Many-or-some people have a town.\"')\n",
      "\n",
      "('Parse failed for ', '\"A draft pertains to NFL.\"')\n",
      "\n",
      "('Parse failed for ', '\"Many males have a class.\"')\n",
      "\n",
      "('Parse failed for ', '\"Many males occasionally experience an absence.\"')\n",
      "\n"
     ]
    }
   ],
   "source": [
    "# Open the file and try to parse each line\n",
    "for line in map(lambda x: x.strip(), open(\"data/input/random\")):\n",
    "    predicate = skeleton.LorePredicate(\"\", \"\", line)\n",
    "    success = predicate.parse(False)# Don't try to match with preexisting patternsd\n",
    "    if success:\n",
    "        print\n",
    "        print\n",
    "        print(line)\n",
    "        print(\"Original parse\")\n",
    "        print(\"\\t\" + \"\\n\\t\".join(predicate.get_skeletons()))\n",
    "        predicate.process_skeletons(word2vec_model, TRIPS_ONTOLOGY, False)\n",
    "        print\n",
    "        print(\"Improved parse\")\n",
    "        print(\"\\t\" + \"\\n\\t\".join(predicate.get_skeletons()))    \n",
    "    else:\n",
    "        print(\"Parse failed for \", line)\n",
    "        print"
   ]
  },
  {
   "cell_type": "code",
   "execution_count": 15,
   "metadata": {
    "collapsed": false
   },
   "outputs": [
    {
     "name": "stdout",
     "output_type": "stream",
     "text": [
      "\t (sa_tell :content move-upward)\n",
      "\t (purpose :ground child :figure move-upward)\n",
      "\t (move-upward :agent male-person :reason purpose :affected money)\n",
      "\n",
      "\n",
      "{'(move-upward :agent male-person :reason purpose :affected money)': {'ph': ['move-upward']}, '(purpose :ground child :figure move-upward)': {'ph': ['assoc-with', 'time-duration-rel', 'purpose', 'purchase-cost', 'beneficiary', 'cost-relation', 'spatial-distance-rel']}}\n",
      "\n",
      "\n",
      "\t (sa_tell :content move-upward)\n",
      "\t (assoc-with :ground child :figure move-upward)\n",
      "\t (move-upward :agent male-person :reason purpose :affected money)\n"
     ]
    }
   ],
   "source": [
    "sentence =  \"He raised money for the kids.\"\n",
    "predicate = skeleton.LorePredicate(\"\", \"\", sentence)\n",
    "success = predicate.parse(False)# Don't try to match with preexisting patternsd\n",
    "predicate.print_skeletons()\n",
    "print\n",
    "print\n",
    "predicate.process_skeletons(word2vec_model, TRIPS_ONTOLOGY, False)\n",
    "print predicate.misc_info\n",
    "print\n",
    "print\n",
    "predicate.print_skeletons()"
   ]
  },
  {
   "cell_type": "code",
   "execution_count": null,
   "metadata": {
    "collapsed": true
   },
   "outputs": [],
   "source": []
  }
 ],
 "metadata": {
  "kernelspec": {
   "display_name": "Python 2",
   "language": "python",
   "name": "python2"
  },
  "language_info": {
   "codemirror_mode": {
    "name": "ipython",
    "version": 2
   },
   "file_extension": ".py",
   "mimetype": "text/x-python",
   "name": "python",
   "nbconvert_exporter": "python",
   "pygments_lexer": "ipython2",
   "version": "2.7.12"
  }
 },
 "nbformat": 4,
 "nbformat_minor": 2
}
