{
 "cells": [
  {
   "cell_type": "markdown",
   "metadata": {},
   "source": [
    "Test for extracting more information from the TRIPS parse"
   ]
  },
  {
   "cell_type": "code",
   "execution_count": 1,
   "metadata": {
    "collapsed": false
   },
   "outputs": [],
   "source": [
    "%load_ext autoreload\n",
    "%autoreload 2"
   ]
  },
  {
   "cell_type": "code",
   "execution_count": 2,
   "metadata": {
    "collapsed": true
   },
   "outputs": [],
   "source": [
    "import requests\n",
    "import xml.etree.ElementTree as ET\n",
    "from pyparsing import OneOrMore, nestedExpr\n",
    "import ast\n",
    "from diesel import lisp\n",
    "import re"
   ]
  },
  {
   "cell_type": "code",
   "execution_count": 3,
   "metadata": {
    "collapsed": false
   },
   "outputs": [
    {
     "name": "stdout",
     "output_type": "stream",
     "text": [
      "((ONT::SPEECHACT ONT::V1330690 ONT::SA_TELL :CONTENT ONT::V1330627 :START 0\n",
      "  :END 24)\n",
      " (ONT::F ONT::V1330627 (:* ONT::ENDURING W::BEAR) :EXPERIENCER ONT::V1330619\n",
      "  :NEUTRAL ONT::V1330633 :TENSE W::PRES :START 0 :END 24)\n",
      " (ONT::INDEF-SET ONT::V1330619 (:* ONT::FEMALE-PERSON W::WOMAN) :SIZE ONT::SOME\n",
      "  :START 0 :END 11)\n",
      " (ONT::INDEF-SET ONT::V1330633 (:* ONT::CHILD W::CHILD) :START 16 :END 24))\n"
     ]
    }
   ],
   "source": [
    "sentence = \"Some women bear children\"\n",
    "\n",
    "params = {\n",
    "    \"input\": sentence,\n",
    "    \"extsformat\": \"svg\",\n",
    "    \"tagsformat\": \"hidden\",\n",
    "    \"treecontents\": \"phrase\",\n",
    "    \"treeformat\": \"LinGO\",\n",
    "    \"lfformat\": \"svg\",\n",
    "    \"no-sense-words\": \"\",\n",
    "    \"tag-type\": \"\",\n",
    "    \"senses-only-for-penn-poss\": \"\",\n",
    "}\n",
    "\n",
    "a = requests.get(\"http://trips.ihmc.us/parser/cgi/parse\", params=params)\n",
    "root = ET.fromstring(a.text)\n",
    "utt = root.find(\"utt\")\n",
    "terms = utt.find(\"terms\")\n",
    "lisp_section = terms.find(\"lisp\")\n",
    "lispcode = lisp_section.text\n",
    "print lispcode\n",
    "lispcode = lispcode.replace(\"\\n\",\"\")\n",
    "# Load the predicates using diesel lisp parser\n",
    "predicates = lisp.extract_predicates(lispcode)\n"
   ]
  },
  {
   "cell_type": "code",
   "execution_count": 5,
   "metadata": {
    "collapsed": false
   },
   "outputs": [
    {
     "name": "stdout",
     "output_type": "stream",
     "text": [
      "['(sa_tell :content enduring)', '(enduring :experiencer female-person :neutral child)'] {'female-person': 'woman', 'enduring': 'bear', 'child': 'child'}\n"
     ]
    }
   ],
   "source": [
    "# Along with the predicates, return the word match also. For example, in\n",
    "# A person may raise money, raise should have role ONT::collect. Return\n",
    "# mapping from ONT::COLLECT to W::RAISE also\n",
    "pattern = re.compile(\"\\([:][*] ONT::([A-Za-z\\-]*) W::([A-Za-z\\-]*)\\)([A-Za-z0-9: ]*):START (\\d+) :END (\\d+)\")\n",
    "role_dict = {}\n",
    "for match in pattern.finditer(lispcode):\n",
    "    start = int(match.group(4))\n",
    "    end = int(match.group(5))\n",
    "    role_dict[match.group(1).lower()] = match.group(2).lower()\n",
    "print predicates, role_dict"
   ]
  },
  {
   "cell_type": "code",
   "execution_count": null,
   "metadata": {
    "collapsed": true
   },
   "outputs": [],
   "source": []
  }
 ],
 "metadata": {
  "kernelspec": {
   "display_name": "Python 2",
   "language": "python",
   "name": "python2"
  },
  "language_info": {
   "codemirror_mode": {
    "name": "ipython",
    "version": 2
   },
   "file_extension": ".py",
   "mimetype": "text/x-python",
   "name": "python",
   "nbconvert_exporter": "python",
   "pygments_lexer": "ipython2",
   "version": "2.7.12"
  }
 },
 "nbformat": 4,
 "nbformat_minor": 2
}
