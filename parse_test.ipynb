{
 "cells": [
  {
   "cell_type": "markdown",
   "metadata": {},
   "source": [
    "Test for extracting more information from the TRIPS parse"
   ]
  },
  {
   "cell_type": "code",
   "execution_count": 2,
   "metadata": {
    "collapsed": false
   },
   "outputs": [
    {
     "name": "stdout",
     "output_type": "stream",
     "text": [
      "The autoreload extension is already loaded. To reload it, use:\n",
      "  %reload_ext autoreload\n"
     ]
    }
   ],
   "source": [
    "%load_ext autoreload\n",
    "%autoreload 2"
   ]
  },
  {
   "cell_type": "code",
   "execution_count": 5,
   "metadata": {
    "collapsed": true
   },
   "outputs": [],
   "source": [
    "import requests\n",
    "import xml.etree.ElementTree as ET\n",
    "from pyparsing import OneOrMore, nestedExpr\n",
    "import ast\n",
    "from diesel import lisp\n",
    "import re"
   ]
  },
  {
   "cell_type": "code",
   "execution_count": 34,
   "metadata": {
    "collapsed": false
   },
   "outputs": [
    {
     "name": "stdout",
     "output_type": "stream",
     "text": [
      "((ONT::SPEECHACT ONT::V973400 ONT::SA_TELL :CONTENT ONT::V973337 :START 0 :END\n",
      "  24)\n",
      " (ONT::F ONT::V973337 (:* ONT::ENDURING W::BEAR) :EXPERIENCER ONT::V973329\n",
      "  :NEUTRAL ONT::V973343 :TENSE W::PRES :START 0 :END 24)\n",
      " (ONT::INDEF-SET ONT::V973329 (:* ONT::FEMALE-PERSON W::WOMAN) :SIZE ONT::SOME\n",
      "  :START 0 :END 11)\n",
      " (ONT::INDEF-SET ONT::V973343 (:* ONT::CHILD W::CHILD) :START 16 :END 24))\n"
     ]
    }
   ],
   "source": [
    "sentence = \"Some women bear children\"\n",
    "\n",
    "params = {\n",
    "    \"input\": sentence,\n",
    "    \"extsformat\": \"svg\",\n",
    "    \"tagsformat\": \"hidden\",\n",
    "    \"treecontents\": \"phrase\",\n",
    "    \"treeformat\": \"LinGO\",\n",
    "    \"lfformat\": \"svg\",\n",
    "    \"no-sense-words\": \"\",\n",
    "    \"tag-type\": \"\",\n",
    "    \"senses-only-for-penn-poss\": \"\",\n",
    "}\n",
    "\n",
    "a = requests.get(\"http://trips.ihmc.us/parser/cgi/parse\", params=params)\n",
    "root = ET.fromstring(a.text)\n",
    "utt = root.find(\"utt\")\n",
    "terms = utt.find(\"terms\")\n",
    "lisp_section = terms.find(\"lisp\")\n",
    "lispcode = lisp_section.text\n",
    "print lispcode\n",
    "lispcode = lispcode.replace(\"\\n\",\"\")\n",
    "# Load the predicates using diesel lisp parser\n",
    "predicates = lisp.extract_predicates(lispcode)\n"
   ]
  },
  {
   "cell_type": "code",
   "execution_count": 33,
   "metadata": {
    "collapsed": false
   },
   "outputs": [
    {
     "name": "stdout",
     "output_type": "stream",
     "text": [
      "['(enduring :experiencer female-person :neutral child)', '(sa_tell :content enduring)'] {'female-person': ('woman', 'Some women '), 'enduring': ('bear', 'Some women bear children'), 'child': ('child', 'children')}\n"
     ]
    }
   ],
   "source": [
    "# Along with the predicates, return the word match also. For example, in\n",
    "# A person may raise money, raise should have role ONT::collect. Return\n",
    "# mapping from ONT::COLLECT to W::RAISE also\n",
    "pattern = re.compile(\"\\([:][*] ONT::([A-Za-z\\-]*) W::([A-Za-z\\-]*)\\)([A-Za-z0-9: ]*):START (\\d+) :END (\\d+)\")\n",
    "role_dict = {}\n",
    "for match in pattern.finditer(lispcode):\n",
    "    start = int(match.group(4))\n",
    "    end = int(match.group(5))\n",
    "    role_dict[match.group(1).lower()] = match.group(2).lower(), sentence[start:end]\n",
    "print predicates, role_dict"
   ]
  },
  {
   "cell_type": "code",
   "execution_count": null,
   "metadata": {
    "collapsed": true
   },
   "outputs": [],
   "source": []
  }
 ],
 "metadata": {
  "kernelspec": {
   "display_name": "Python 2",
   "language": "python",
   "name": "python2"
  },
  "language_info": {
   "codemirror_mode": {
    "name": "ipython",
    "version": 2
   },
   "file_extension": ".py",
   "mimetype": "text/x-python",
   "name": "python",
   "nbconvert_exporter": "python",
   "pygments_lexer": "ipython2",
   "version": "2.7.12"
  }
 },
 "nbformat": 4,
 "nbformat_minor": 2
}
